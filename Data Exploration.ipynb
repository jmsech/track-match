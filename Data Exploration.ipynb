{
 "cells": [
  {
   "cell_type": "code",
   "execution_count": 9,
   "metadata": {},
   "outputs": [],
   "source": [
    "import pandas as pd\n",
    "import json\n",
    "import spotipy\n",
    "import spotipy.oauth2 as SpotifyClientCredentials\n",
    "\n",
    "CLIENT_ID = '69200cfc38774a4394c7bc17911d0c08'\n",
    "CLIENT_SECRET = '6c5f36f3da3e4e699ebc7ba59d3d9792'\n",
    "REDIRECT_URI = \"http://127.0.0.1:8080\"\n",
    "\n",
    "# auth_manager = spotipy.oauth2.SpotifyClientCredentials(client_id=CLIENT_ID, client_secret=CLIENT_SECRET)\n",
    "auth_manager= spotipy.oauth2.SpotifyOAuth(client_id=CLIENT_ID, client_secret=CLIENT_SECRET, redirect_uri=REDIRECT_URI, scope='playlist-modify-public, playlist-modify-private')\n",
    "sp = spotipy.Spotify(auth_manager=auth_manager) "
   ]
  },
  {
   "cell_type": "code",
   "execution_count": 35,
   "metadata": {},
   "outputs": [],
   "source": [
    "with open('./data/jsech_liked_songs.json') as f:\n",
    "    jsechs_library = json.load(f)\n",
    "    \n",
    "with open('./data/nate_liked_songs.json') as f:\n",
    "    nates_library = json.load(f)\n",
    "    \n",
    "with open('./data/jgreene_liked_songs.json') as f:\n",
    "    jgreenes_library = json.load(f)"
   ]
  },
  {
   "cell_type": "code",
   "execution_count": 36,
   "metadata": {},
   "outputs": [],
   "source": [
    "lib_list = []\n",
    "for item in jgreenes_library:\n",
    "    data = {}\n",
    "    track = item['track']\n",
    "    data['track_name'] = track['name']\n",
    "    data['artists'] = \", \".join([artist['name'] for artist in track['artists']])\n",
    "    data['album'] = track['album']['name']\n",
    "    data['duration_ms'] = track['duration_ms']\n",
    "    data['explicit'] = track['explicit']\n",
    "    data['popularity'] = track['popularity']\n",
    "    data['href'] = track['href']\n",
    "    data['id'] = track['id']\n",
    "    data['uri'] = track['uri']\n",
    "    lib_list.append(data)\n",
    "\n",
    "jgreene_df = pd.DataFrame(lib_list)"
   ]
  },
  {
   "cell_type": "code",
   "execution_count": 5,
   "metadata": {},
   "outputs": [],
   "source": [
    "# Get Audio Features for the tracks in a library\n",
    "def merge_audio_feats(library):\n",
    "    audio_feats = []\n",
    "    i=0\n",
    "    while i < library.shape[0]:\n",
    "        audio_feats += sp.audio_features(tracks=list(library['id'])[i:i+100])\n",
    "        i += 100\n",
    "\n",
    "    for i in range(len(audio_feats)):\n",
    "        if audio_feats[i] == None:\n",
    "            print(library.iloc[i]['track_name'])\n",
    "            audio_feats[i] = {}\n",
    "\n",
    "    audio_df = pd.DataFrame(audio_feats).drop(columns=['track_href', 'type', 'analysis_url'])\n",
    "    library = pd.merge(library, audio_df, how=\"left\", on=[\"id\",'uri', 'duration_ms'])\n",
    "\n",
    "    cols = [ 'track_name',\n",
    "             'artists',\n",
    "             'album',\n",
    "             'popularity',\n",
    "             'duration_ms',\n",
    "             'explicit',\n",
    "             'acousticness',\n",
    "             'danceability',\n",
    "             'energy',\n",
    "             'instrumentalness',\n",
    "             'key',\n",
    "             'liveness',\n",
    "             'loudness',\n",
    "             'mode',\n",
    "             'speechiness',\n",
    "             'tempo',\n",
    "             'time_signature',\n",
    "             'valence',\n",
    "             'href',\n",
    "             'id',\n",
    "             'uri']\n",
    "    library = library[cols]\n",
    "    return library"
   ]
  },
  {
   "cell_type": "code",
   "execution_count": 37,
   "metadata": {},
   "outputs": [],
   "source": [
    "# jsech_df = merge_audio_feats(jsech_df)\n",
    "# nate_df = merge_audio_feats(nate_df)\n",
    "jgreene_df = merge_audio_feats(jgreene_df)\n",
    "common_df = pd.merge(jsech_df,jgreene_df,how=\"inner\")"
   ]
  },
  {
   "cell_type": "code",
   "execution_count": 38,
   "metadata": {},
   "outputs": [
    {
     "data": {
      "text/plain": [
       "81"
      ]
     },
     "execution_count": 38,
     "metadata": {},
     "output_type": "execute_result"
    }
   ],
   "source": [
    "common_df.shape[0]"
   ]
  },
  {
   "cell_type": "code",
   "execution_count": 20,
   "metadata": {},
   "outputs": [
    {
     "name": "stdout",
     "output_type": "stream",
     "text": [
      "Justin: 3.8446601941747574\n",
      "Nate: 3.9053318824809575\n",
      "Both: 3.875\n"
     ]
    }
   ],
   "source": [
    "category = \"time_signature\"\n",
    "print(f\"Justin: {jsech_df[category].mean()}\")\n",
    "print(f\"Nate: {nate_df[category].mean()}\")\n",
    "print(f\"Both: {common_df[category].mean()}\")"
   ]
  },
  {
   "cell_type": "code",
   "execution_count": 39,
   "metadata": {},
   "outputs": [
    {
     "data": {
      "text/plain": [
       "{'snapshot_id': 'Myw2MjU0ZTg2ZmYxMDc0ZDJiOWYwZWM5OWFmMTA5NTEyYTM1MzUxYTIx'}"
      ]
     },
     "execution_count": 39,
     "metadata": {},
     "output_type": "execute_result"
    }
   ],
   "source": [
    "playlist = sp.user_playlist_create(user='j.sech',name='Common Tracks - Justins')\n",
    "sp.user_playlist_add_tracks(user='j.sech',playlist_id=playlist['uri'], tracks=list(common_df['id'])[:100])\n",
    "# sp.user_playlist_add_tracks(user='j.sech',playlist_id=playlist['uri'], tracks=list(common_df['id'])[100:])"
   ]
  },
  {
   "cell_type": "code",
   "execution_count": null,
   "metadata": {},
   "outputs": [],
   "source": []
  }
 ],
 "metadata": {
  "kernelspec": {
   "display_name": "Python 3",
   "language": "python",
   "name": "python3"
  },
  "language_info": {
   "codemirror_mode": {
    "name": "ipython",
    "version": 3
   },
   "file_extension": ".py",
   "mimetype": "text/x-python",
   "name": "python",
   "nbconvert_exporter": "python",
   "pygments_lexer": "ipython3",
   "version": "3.7.3"
  }
 },
 "nbformat": 4,
 "nbformat_minor": 2
}
